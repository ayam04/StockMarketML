{
  "nbformat": 4,
  "nbformat_minor": 0,
  "metadata": {
    "colab": {
      "provenance": [],
      "authorship_tag": "ABX9TyMANvmsAH1+B/wNIKmGkkW5",
      "include_colab_link": true
    },
    "kernelspec": {
      "name": "python3",
      "display_name": "Python 3"
    },
    "language_info": {
      "name": "python"
    }
  },
  "cells": [
    {
      "cell_type": "markdown",
      "metadata": {
        "id": "view-in-github",
        "colab_type": "text"
      },
      "source": [
        "<a href=\"https://colab.research.google.com/github/ayam04/StockMarketML/blob/main/stockanalysis.ipynb\" target=\"_parent\"><img src=\"https://colab.research.google.com/assets/colab-badge.svg\" alt=\"Open In Colab\"/></a>"
      ]
    },
    {
      "cell_type": "code",
      "execution_count": 4,
      "metadata": {
        "id": "Iu7Ypw7lge70"
      },
      "outputs": [],
      "source": [
        "import yfinance as yf\n",
        "import datetime\n",
        "import pandas as pd\n",
        "import numpy as np\n",
        "from finta import TA\n",
        "import matplotlib.pyplot as plt\n",
        "\n",
        "from sklearn import svm\n",
        "from sklearn.ensemble import RandomForestClassifier, GradientBoostingClassifier, VotingClassifier \n",
        "from sklearn.neighbors import KNeighborsClassifier\n",
        "from sklearn.model_selection import train_test_split, GridSearchCV\n",
        "from sklearn.metrics import confusion_matrix, classification_report, mean_squared_error, accuracy_score\n"
      ]
    },
    {
      "cell_type": "code",
      "source": [
        "\"\"\"\n",
        "Defining some constants for data mining\n",
        "\"\"\"\n",
        "\n",
        "NUM_DAYS = 10000     # The number of days of historical data to retrieve\n",
        "INTERVAL = '1d'     # Sample rate of historical data\n",
        "symbol = 'SPY'      # Symbol of the desired stock\n",
        "\n",
        "# List of symbols for technical indicators\n",
        "INDICATORS = ['RSI', 'MACD', 'STOCH','ADL', 'ATR', 'MOM', 'MFI', 'ROC', 'OBV', 'CCI', 'EMV', 'VORTEX']"
      ],
      "metadata": {
        "id": "m0KnZ4a9gouW"
      },
      "execution_count": 5,
      "outputs": []
    },
    {
      "cell_type": "code",
      "source": [
        "\"\"\"\n",
        "Next we pull the historical data using yfinance\n",
        "Rename the column names because finta uses the lowercase names\n",
        "\"\"\"\n",
        "\n",
        "start = (datetime.date.today() - datetime.timedelta( NUM_DAYS ) )\n",
        "end = datetime.datetime.today()\n",
        "\n",
        "data = yf.download(symbol, start=start, end=end, interval=INTERVAL)\n",
        "data.rename(columns={\"Close\": 'close', \"High\": 'high', \"Low\": 'low', 'Volume': 'volume', 'Open': 'open'}, inplace=True)\n",
        "print(len(data))\n",
        "\n",
        "tmp = data.iloc[-60:]\n",
        "tmp['close'].plot()"
      ],
      "metadata": {
        "colab": {
          "base_uri": "https://localhost:8080/",
          "height": 337
        },
        "id": "jadH6MdWg48n",
        "outputId": "c0c8525a-1b9c-43e3-e772-09a04cbbf0d0"
      },
      "execution_count": 6,
      "outputs": [
        {
          "output_type": "stream",
          "name": "stdout",
          "text": [
            "\r[*********************100%***********************]  1 of 1 completed\n",
            "6892\n"
          ]
        },
        {
          "output_type": "execute_result",
          "data": {
            "text/plain": [
              "<AxesSubplot:xlabel='Date'>"
            ]
          },
          "metadata": {},
          "execution_count": 6
        },
        {
          "output_type": "display_data",
          "data": {
            "text/plain": [
              "<Figure size 432x288 with 1 Axes>"
            ],
            "image/png": "[encoded data removed]"
          },
          "metadata": {
            "needs_background": "light"
          }
        }
      ]
    },
    {
      "cell_type": "code",
      "source": [
        "\"\"\"\n",
        "Next we clean our data and perform feature engineering to create new technical indicator features that our\n",
        "model can learn from\n",
        "\"\"\"\n",
        "\n",
        "def _exponential_smooth(data, alpha):\n",
        "    \"\"\"\n",
        "    Function that exponentially smooths dataset so values are less 'rigid'\n",
        "    :param alpha: weight factor to weight recent values more\n",
        "    \"\"\"\n",
        "    \n",
        "    return data.ewm(alpha=alpha).mean()\n",
        "\n",
        "data = _exponential_smooth(data, 0.65)\n",
        "\n",
        "tmp1 = data.iloc[-60:]\n",
        "tmp1['close'].plot()"
      ],
      "metadata": {
        "colab": {
          "base_uri": "https://localhost:8080/",
          "height": 303
        },
        "id": "zy78CqbjhHVE",
        "outputId": "4809fe51-2641-4f66-bb60-1461faa65d00"
      },
      "execution_count": 7,
      "outputs": [
        {
          "output_type": "execute_result",
          "data": {
            "text/plain": [
              "<AxesSubplot:xlabel='Date'>"
            ]
          },
          "metadata": {},
          "execution_count": 7
        },
        {
          "output_type": "display_data",
          "data": {
            "text/plain": [
              "<Figure size 432x288 with 1 Axes>"
            ],
            "image/png": "[encoded data removed]"
          },
          "metadata": {
            "needs_background": "light"
          }
        }
      ]
    },
    {
      "cell_type": "code",
      "source": [
        "def _get_indicator_data(data):\n",
        "    \"\"\"\n",
        "    Function that uses the finta API to calculate technical indicators used as the features\n",
        "    :return:\n",
        "    \"\"\"\n",
        "\n",
        "    for indicator in INDICATORS:\n",
        "        ind_data = eval('TA.' + indicator + '(data)')\n",
        "        if not isinstance(ind_data, pd.DataFrame):\n",
        "            ind_data = ind_data.to_frame()\n",
        "        data = data.merge(ind_data, left_index=True, right_index=True)\n",
        "    data.rename(columns={\"14 period EMV.\": '14 period EMV'}, inplace=True)\n",
        "\n",
        "    # Also calculate moving averages for features\n",
        "    data['ema50'] = data['close'] / data['close'].ewm(50).mean()\n",
        "    data['ema21'] = data['close'] / data['close'].ewm(21).mean()\n",
        "    data['ema15'] = data['close'] / data['close'].ewm(14).mean()\n",
        "    data['ema5'] = data['close'] / data['close'].ewm(5).mean()\n",
        "\n",
        "    # Instead of using the actual volume value (which changes over time), we normalize it with a moving volume average\n",
        "    data['normVol'] = data['volume'] / data['volume'].ewm(5).mean()\n",
        "\n",
        "    # Remove columns that won't be used as features\n",
        "    del (data['open'])\n",
        "    del (data['high'])\n",
        "    del (data['low'])\n",
        "    del (data['volume'])\n",
        "    del (data['Adj Close'])\n",
        "    \n",
        "    return data\n",
        "\n",
        "data = _get_indicator_data(data)\n",
        "print(data.columns)"
      ],
      "metadata": {
        "colab": {
          "base_uri": "https://localhost:8080/"
        },
        "id": "g1KBkJhMhMvt",
        "outputId": "8cb6f231-d46d-4cca-c713-e75038cea6ff"
      },
      "execution_count": 8,
      "outputs": [
        {
          "output_type": "stream",
          "name": "stdout",
          "text": [
            "Index(['close', '14 period RSI', 'MACD', 'SIGNAL', '14 period STOCH %K', 'MFV',\n",
            "       '14 period ATR', 'MOM', '14 period MFI', 'ROC', 'OBV', '20 period CCI',\n",
            "       '14 period EMV', 'VIm', 'VIp', 'ema50', 'ema21', 'ema15', 'ema5',\n",
            "       'normVol'],\n",
            "      dtype='object')\n"
          ]
        }
      ]
    },
    {
      "cell_type": "code",
      "source": [
        "live_pred_data = data.iloc[-16:-11]"
      ],
      "metadata": {
        "id": "yFOoHOyYhUHT"
      },
      "execution_count": 9,
      "outputs": []
    },
    {
      "cell_type": "code",
      "source": [
        "def _produce_prediction(data, window):\n",
        "    \"\"\"\n",
        "    Function that produces the 'truth' values\n",
        "    At a given row, it looks 'window' rows ahead to see if the price increased (1) or decreased (0)\n",
        "    :param window: number of days, or rows to look ahead to see what the price did\n",
        "    \"\"\"\n",
        "    \n",
        "    prediction = (data.shift(-window)['close'] >= data['close'])\n",
        "    prediction = prediction.iloc[:-window]\n",
        "    data['pred'] = prediction.astype(int)\n",
        "    \n",
        "    return data\n",
        "\n",
        "data = _produce_prediction(data, window=15)\n",
        "del (data['close'])\n",
        "data = data.dropna() # Some indicators produce NaN values for the first few rows, we just remove them here\n",
        "data.tail()\n",
        "print(len(data))"
      ],
      "metadata": {
        "colab": {
          "base_uri": "https://localhost:8080/"
        },
        "id": "bgfJaEflhZ_B",
        "outputId": "99efe641-bd90-48fb-eafd-de4d7363b54f"
      },
      "execution_count": 10,
      "outputs": [
        {
          "output_type": "stream",
          "name": "stdout",
          "text": [
            "6863\n"
          ]
        }
      ]
    },
    {
      "cell_type": "code",
      "source": [
        "def cross_Validation(data):\n",
        "\n",
        "    # Split data into equal partitions of size len_train\n",
        "    \n",
        "    num_train = 10 # Increment of how many starting points (len(data) / num_train  =  number of train-test sets)\n",
        "    len_train = 40 # Length of each train-test set\n",
        "    \n",
        "    # Lists to store the results from each model\n",
        "    rf_RESULTS = []\n",
        "    knn_RESULTS = []\n",
        "    gbt_RESULTS = []\n",
        "    ensemble_RESULTS = []\n",
        "    \n",
        "    i = 0\n",
        "    \n",
        "    # Models which will be used\n",
        "    rf = RandomForestClassifier()\n",
        "    knn = KNeighborsClassifier()\n",
        "    \n",
        "    # Create a tuple list of our models\n",
        "    estimators=[('knn', knn), ('rf', rf)]\n",
        "    ensemble = VotingClassifier(estimators, voting='soft')\n",
        "    \n",
        "    while True:\n",
        "        \n",
        "        # Partition the data into chunks of size len_train every num_train days\n",
        "        df = data.iloc[i * num_train : (i * num_train) + len_train]\n",
        "        i += 1\n",
        "        #print(i * num_train, (i * num_train) + len_train)\n",
        "        \n",
        "        if len(df) < 40:\n",
        "            break\n",
        "        \n",
        "        y = df['pred']\n",
        "        features = [x for x in df.columns if x not in ['pred']]\n",
        "        X = df[features]\n",
        "\n",
        "        X_train, X_test, y_train, y_test = train_test_split(X, y, train_size= 7 * len(X) // 10,shuffle=False)\n",
        "        \n",
        "        # fit models\n",
        "        rf.fit(X_train, y_train)\n",
        "        knn.fit(X_train, y_train)\n",
        "        ensemble.fit(X_train, y_train)\n",
        "        \n",
        "        # get predictions\n",
        "        rf_prediction = rf.predict(X_test)\n",
        "        knn_prediction = knn.predict(X_test)\n",
        "        ensemble_prediction = ensemble.predict(X_test)\n",
        "        \n",
        "#         print('rf prediction is ', rf_prediction)\n",
        "#         print('knn prediction is ', knn_prediction)\n",
        "#         print('ensemble prediction is ', ensemble_prediction)\n",
        "#         print('truth values are ', y_test.values)\n",
        "        \n",
        "        # determine accuracy and append to results\n",
        "        rf_accuracy = accuracy_score(y_test.values, rf_prediction)\n",
        "        knn_accuracy = accuracy_score(y_test.values, knn_prediction)\n",
        "        ensemble_accuracy = accuracy_score(y_test.values, ensemble_prediction)\n",
        "        \n",
        "#         print(rf_accuracy)\n",
        "#         print(knn_accuracy)\n",
        "#         print(ensemble_accuracy)\n",
        "        rf_RESULTS.append(rf_accuracy)\n",
        "        knn_RESULTS.append(knn_accuracy)\n",
        "        ensemble_RESULTS.append(ensemble_accuracy)\n",
        "                \n",
        "    print('RF Accuracy = ' + str( sum(rf_RESULTS) / len(rf_RESULTS)))\n",
        "    print('KNN Accuracy = ' + str( sum(knn_RESULTS) / len(knn_RESULTS)))\n",
        "    print('ENSEMBLE Accuracy = ' + str( sum(ensemble_RESULTS) / len(ensemble_RESULTS)))\n",
        "    \n",
        "cross_Validation(data)"
      ],
      "metadata": {
        "colab": {
          "base_uri": "https://localhost:8080/"
        },
        "id": "fl3y_CcHheaU",
        "outputId": "4510d4f0-8371-441a-c019-a0eb7814a8cc"
      },
      "execution_count": 11,
      "outputs": [
        {
          "output_type": "stream",
          "name": "stdout",
          "text": [
            "RF Accuracy = 0.6261591020009758\n",
            "KNN Accuracy = 0.60993167398731\n",
            "ENSEMBLE Accuracy = 0.6312835529526597\n"
          ]
        }
      ]
    },
    {
      "cell_type": "code",
      "source": [],
      "metadata": {
        "id": "E1Ht2OEKhrBK"
      },
      "execution_count": null,
      "outputs": []
    }
  ]
}